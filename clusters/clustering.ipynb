{
 "cells": [
  {
   "cell_type": "code",
   "execution_count": 1,
   "metadata": {
    "ExecuteTime": {
     "end_time": "2018-12-20T15:10:40.569959Z",
     "start_time": "2018-12-20T15:10:39.993788Z"
    },
    "collapsed": false
   },
   "outputs": [],
   "source": [
    "import clusters\n",
    "# import pandas as pd\n",
    "import numpy as np"
   ]
  },
  {
   "cell_type": "code",
   "execution_count": 2,
   "metadata": {
    "ExecuteTime": {
     "end_time": "2018-12-20T15:10:40.577299Z",
     "start_time": "2018-12-20T15:10:40.571454Z"
    },
    "collapsed": true
   },
   "outputs": [],
   "source": [
    "img, word, data = clusters.readfile('imgdata.txt')"
   ]
  },
  {
   "cell_type": "code",
   "execution_count": 3,
   "metadata": {
    "ExecuteTime": {
     "end_time": "2018-12-20T15:10:40.624408Z",
     "start_time": "2018-12-20T15:10:40.611208Z"
    },
    "collapsed": false
   },
   "outputs": [
    {
     "data": {
      "text/plain": [
       "['image1', 'image2', 'image3', 'image4', 'image5', 'image6']"
      ]
     },
     "execution_count": 3,
     "metadata": {},
     "output_type": "execute_result"
    }
   ],
   "source": [
    "img"
   ]
  },
  {
   "cell_type": "code",
   "execution_count": 4,
   "metadata": {
    "ExecuteTime": {
     "end_time": "2018-12-20T15:10:40.660169Z",
     "start_time": "2018-12-20T15:10:40.654445Z"
    },
    "collapsed": false
   },
   "outputs": [
    {
     "data": {
      "text/plain": [
       "['Red', 'Green', 'Blue']"
      ]
     },
     "execution_count": 4,
     "metadata": {},
     "output_type": "execute_result"
    }
   ],
   "source": [
    "word"
   ]
  },
  {
   "cell_type": "code",
   "execution_count": 5,
   "metadata": {
    "ExecuteTime": {
     "end_time": "2018-12-20T15:10:40.700134Z",
     "start_time": "2018-12-20T15:10:40.694248Z"
    },
    "collapsed": false
   },
   "outputs": [
    {
     "data": {
      "text/plain": [
       "[[0.0, 5.0, 5.0],\n",
       " [0.0, 6.0, 4.0],\n",
       " [3.0, 4.0, 4.0],\n",
       " [4.0, 4.0, 3.0],\n",
       " [2.0, 8.0, 0.0],\n",
       " [1.0, 4.0, 5.0]]"
      ]
     },
     "execution_count": 5,
     "metadata": {},
     "output_type": "execute_result"
    }
   ],
   "source": [
    "data"
   ]
  },
  {
   "cell_type": "code",
   "execution_count": 6,
   "metadata": {
    "ExecuteTime": {
     "end_time": "2018-12-20T15:10:40.731027Z",
     "start_time": "2018-12-20T15:10:40.727511Z"
    },
    "collapsed": false
   },
   "outputs": [],
   "source": [
    "hcluster = clusters.hcluster(data)"
   ]
  },
  {
   "cell_type": "code",
   "execution_count": 7,
   "metadata": {
    "ExecuteTime": {
     "end_time": "2018-12-20T15:10:40.777748Z",
     "start_time": "2018-12-20T15:10:40.767200Z"
    },
    "collapsed": false
   },
   "outputs": [
    {
     "name": "stdout",
     "output_type": "stream",
     "text": [
      "-\n",
      "  image5\n",
      "  -\n",
      "    -\n",
      "      image3\n",
      "      image4\n",
      "    -\n",
      "      image2\n",
      "      -\n",
      "        image1\n",
      "        image6\n"
     ]
    }
   ],
   "source": [
    "clusters.printclust(hcluster, labels=img)"
   ]
  },
  {
   "cell_type": "code",
   "execution_count": 8,
   "metadata": {
    "ExecuteTime": {
     "end_time": "2018-12-20T15:10:40.815837Z",
     "start_time": "2018-12-20T15:10:40.808714Z"
    },
    "collapsed": false
   },
   "outputs": [
    {
     "name": "stdout",
     "output_type": "stream",
     "text": [
      "Iteration 0\n",
      "Iteration 1\n",
      "Iteration 2\n",
      "Iteration 3\n",
      "Iteration 4\n"
     ]
    }
   ],
   "source": [
    "kcluster = clusters.kcluster(data, k=3)"
   ]
  },
  {
   "cell_type": "code",
   "execution_count": 9,
   "metadata": {
    "ExecuteTime": {
     "end_time": "2018-12-20T15:10:40.854470Z",
     "start_time": "2018-12-20T15:10:40.848289Z"
    },
    "collapsed": false
   },
   "outputs": [
    {
     "data": {
      "text/plain": [
       "[['image1', 'image2', 'image6'], ['image3', 'image4'], ['image5']]"
      ]
     },
     "execution_count": 9,
     "metadata": {},
     "output_type": "execute_result"
    }
   ],
   "source": [
    "[[img[i] for i in kcluster[k]] for k in range(len(kcluster))]"
   ]
  },
  {
   "cell_type": "code",
   "execution_count": 10,
   "metadata": {
    "ExecuteTime": {
     "end_time": "2018-12-20T15:10:40.894027Z",
     "start_time": "2018-12-20T15:10:40.888785Z"
    },
    "collapsed": false
   },
   "outputs": [
    {
     "data": {
      "text/plain": [
       "[[0, 1, 5], [2, 3], [4]]"
      ]
     },
     "execution_count": 10,
     "metadata": {},
     "output_type": "execute_result"
    }
   ],
   "source": [
    "kcluster"
   ]
  },
  {
   "cell_type": "markdown",
   "metadata": {},
   "source": [
    "# Chijiwa Data"
   ]
  },
  {
   "cell_type": "code",
   "execution_count": 11,
   "metadata": {
    "ExecuteTime": {
     "end_time": "2018-12-20T15:10:40.981991Z",
     "start_time": "2018-12-20T15:10:40.978390Z"
    },
    "collapsed": false
   },
   "outputs": [],
   "source": [
    "impression_word, color, data = clusters.readfile('chijiiwa.txt')"
   ]
  },
  {
   "cell_type": "code",
   "execution_count": 12,
   "metadata": {
    "ExecuteTime": {
     "end_time": "2018-12-20T15:10:41.021351Z",
     "start_time": "2018-12-20T15:10:41.015177Z"
    },
    "collapsed": false
   },
   "outputs": [
    {
     "data": {
      "text/plain": [
       "['showy',\n",
       " 'sober',\n",
       " 'natural',\n",
       " 'artificial',\n",
       " 'warm',\n",
       " 'cold',\n",
       " 'bright',\n",
       " 'dark',\n",
       " 'intellectual',\n",
       " 'emotional',\n",
       " 'soft',\n",
       " 'hard',\n",
       " 'light',\n",
       " 'grave',\n",
       " 'plain',\n",
       " 'insistent',\n",
       " 'strong',\n",
       " 'feeble',\n",
       " 'favorite',\n",
       " 'disliked',\n",
       " 'static',\n",
       " 'dynamic',\n",
       " 'cheerful',\n",
       " 'gloomy',\n",
       " 'beautiful',\n",
       " 'ugly',\n",
       " 'manly',\n",
       " 'womanly',\n",
       " 'vivid',\n",
       " 'vague',\n",
       " 'clear',\n",
       " 'muddy',\n",
       " 'simple',\n",
       " 'complicated',\n",
       " 'graceful',\n",
       " 'vulgar',\n",
       " 'new',\n",
       " 'old',\n",
       " 'excited',\n",
       " 'melancholy']"
      ]
     },
     "execution_count": 12,
     "metadata": {},
     "output_type": "execute_result"
    }
   ],
   "source": [
    "impression_word"
   ]
  },
  {
   "cell_type": "code",
   "execution_count": 13,
   "metadata": {
    "ExecuteTime": {
     "end_time": "2018-12-20T15:10:41.064049Z",
     "start_time": "2018-12-20T15:10:41.059190Z"
    },
    "collapsed": false
   },
   "outputs": [
    {
     "data": {
      "text/plain": [
       "['red', 'yellow', 'green', 'blue', 'purple', 'white', 'black']"
      ]
     },
     "execution_count": 13,
     "metadata": {},
     "output_type": "execute_result"
    }
   ],
   "source": [
    "color"
   ]
  },
  {
   "cell_type": "code",
   "execution_count": 14,
   "metadata": {
    "ExecuteTime": {
     "end_time": "2018-12-20T15:10:41.148471Z",
     "start_time": "2018-12-20T15:10:41.129465Z"
    },
    "collapsed": false
   },
   "outputs": [
    {
     "data": {
      "text/plain": [
       "[[17.0, 22.0, 3.0, -3.0, -6.0, 2.0, -13.0],\n",
       " [-17.0, -22.0, -3.0, 3.0, 6.0, -2.0, 13.0],\n",
       " [0.0, 4.0, 7.0, 2.0, -9.0, 11.0, 1.0],\n",
       " [0.0, -4.0, -7.0, -2.0, 9.0, -11.0, -1.0],\n",
       " [14.0, 13.0, -1.0, -13.0, -7.0, -4.0, 1.0],\n",
       " [-14.0, -13.0, 1.0, 13.0, 7.0, 4.0, -1.0],\n",
       " [11.0, 22.0, 6.0, -6.0, -9.0, 14.0, -22.0],\n",
       " [-11.0, -22.0, -6.0, 6.0, 9.0, -14.0, 22.0],\n",
       " [-14.0, -8.0, 4.0, 6.0, -1.0, 11.0, 7.0],\n",
       " [14.0, 8.0, -4.0, -6.0, 1.0, -11.0, -7.0],\n",
       " [0.0, 9.0, 2.0, -7.0, -6.0, 7.0, -16.0],\n",
       " [0.0, -9.0, -2.0, 7.0, 6.0, -7.0, 16.0],\n",
       " [0.0, 16.0, 3.0, -4.0, -12.0, 11.0, -19.0],\n",
       " [0.0, -16.0, -3.0, 4.0, 12.0, -11.0, 19.0],\n",
       " [-8.0, 3.0, -2.0, -3.0, -9.0, 17.0, -4.0],\n",
       " [8.0, -3.0, 2.0, 3.0, 9.0, -17.0, 4.0],\n",
       " [15.0, 18.0, 6.0, 11.0, 5.0, -3.0, 16.0],\n",
       " [-15.0, -18.0, -6.0, -11.0, -5.0, 3.0, -16.0],\n",
       " [4.0, 6.0, 3.0, 2.0, -6.0, 14.0, 11.0],\n",
       " [-4.0, -6.0, -3.0, -2.0, 6.0, -14.0, -11.0],\n",
       " [-12.0, -13.0, -2.0, 6.0, 4.0, 11.0, 9.0],\n",
       " [12.0, 13.0, 2.0, -6.0, -4.0, -11.0, -9.0],\n",
       " [11.0, 16.0, -1.0, -6.0, -9.0, 4.0, -13.0],\n",
       " [-11.0, -16.0, 1.0, 6.0, 9.0, -4.0, 13.0],\n",
       " [5.0, 6.0, 4.0, 1.0, -3.0, 14.0, 4.0],\n",
       " [-5.0, -6.0, -4.0, -1.0, 3.0, -14.0, -4.0],\n",
       " [-8.0, -3.0, 4.0, 8.0, -7.0, -5.0, 24.0],\n",
       " [8.0, 3.0, -4.0, -8.0, 7.0, 5.0, -24.0],\n",
       " [8.0, 17.0, 7.0, 6.0, -2.0, 9.0, 12.0],\n",
       " [-8.0, -17.0, -7.0, -6.0, 2.0, -9.0, -12.0],\n",
       " [1.0, 12.0, 4.0, 3.0, -6.0, 15.0, -1.0],\n",
       " [-1.0, -12.0, -4.0, -3.0, 6.0, -15.0, 1.0],\n",
       " [2.0, 12.0, 4.0, 3.0, -9.0, 14.0, -3.0],\n",
       " [-2.0, -12.0, -4.0, -3.0, 9.0, -14.0, 3.0],\n",
       " [-2.0, 2.0, 1.0, 4.0, 0.0, 15.0, 9.0],\n",
       " [2.0, -2.0, -1.0, -4.0, 0.0, -15.0, -9.0],\n",
       " [4.0, 9.0, 2.0, 1.0, -6.0, 8.0, -3.0],\n",
       " [-4.0, -9.0, -2.0, -1.0, 6.0, -8.0, 3.0],\n",
       " [8.0, 10.0, -2.0, -6.0, -7.0, 0.0, -9.0],\n",
       " [-8.0, -10.0, 2.0, 6.0, 7.0, 0.0, 9.0]]"
      ]
     },
     "execution_count": 14,
     "metadata": {},
     "output_type": "execute_result"
    }
   ],
   "source": [
    "data"
   ]
  },
  {
   "cell_type": "code",
   "execution_count": 15,
   "metadata": {
    "ExecuteTime": {
     "end_time": "2018-12-20T15:10:57.674859Z",
     "start_time": "2018-12-20T15:10:57.635974Z"
    },
    "collapsed": true
   },
   "outputs": [],
   "source": [
    "hcluster = clusters.hcluster(data)"
   ]
  },
  {
   "cell_type": "code",
   "execution_count": 17,
   "metadata": {
    "ExecuteTime": {
     "end_time": "2018-12-20T15:11:24.573389Z",
     "start_time": "2018-12-20T15:11:24.501171Z"
    },
    "collapsed": false
   },
   "outputs": [
    {
     "name": "stdout",
     "output_type": "stream",
     "text": [
      " -\n",
      "  -\n",
      "    -\n",
      "      manly\n",
      "      -\n",
      "        -\n",
      "          -\n",
      "            sober\n",
      "            -\n",
      "              gloomy\n",
      "              melancholy\n",
      "          -\n",
      "            dark\n",
      "            -\n",
      "              hard\n",
      "              grave\n",
      "        -\n",
      "          cold\n",
      "          -\n",
      "            intellectual\n",
      "            static\n",
      "    -\n",
      "      -\n",
      "        feeble\n",
      "        vague\n",
      "      -\n",
      "        insistent\n",
      "        -\n",
      "          -\n",
      "            vulgar\n",
      "            -\n",
      "              disliked\n",
      "              ugly\n",
      "          -\n",
      "            artificial\n",
      "            -\n",
      "              old\n",
      "              -\n",
      "                muddy\n",
      "                complicated\n",
      "  -\n",
      "    -\n",
      "      womanly\n",
      "      -\n",
      "        -\n",
      "          -\n",
      "            showy\n",
      "            -\n",
      "              cheerful\n",
      "              excited\n",
      "          -\n",
      "            bright\n",
      "            -\n",
      "              soft\n",
      "              light\n",
      "        -\n",
      "          warm\n",
      "          -\n",
      "            emotional\n",
      "            dynamic\n",
      "    -\n",
      "      -\n",
      "        strong\n",
      "        vivid\n",
      "      -\n",
      "        plain\n",
      "        -\n",
      "          -\n",
      "            graceful\n",
      "            -\n",
      "              favorite\n",
      "              beautiful\n",
      "          -\n",
      "            natural\n",
      "            -\n",
      "              new\n",
      "              -\n",
      "                clear\n",
      "                simple\n"
     ]
    }
   ],
   "source": [
    "clusters.printclust(hcluster, labels=impression_word)"
   ]
  },
  {
   "cell_type": "code",
   "execution_count": 18,
   "metadata": {
    "ExecuteTime": {
     "end_time": "2018-12-20T15:11:44.243436Z",
     "start_time": "2018-12-20T15:11:44.219202Z"
    },
    "collapsed": false
   },
   "outputs": [
    {
     "name": "stdout",
     "output_type": "stream",
     "text": [
      "Iteration 0\n",
      "Iteration 1\n",
      "Iteration 2\n",
      "Iteration 3\n",
      "Iteration 4\n"
     ]
    }
   ],
   "source": [
    "kcluster = clusters.kcluster(data, k=5)"
   ]
  },
  {
   "cell_type": "code",
   "execution_count": 20,
   "metadata": {
    "ExecuteTime": {
     "end_time": "2018-12-20T15:12:08.881898Z",
     "start_time": "2018-12-20T15:12:08.874593Z"
    },
    "collapsed": false
   },
   "outputs": [
    {
     "data": {
      "text/plain": [
       "[['sober',\n",
       "  'cold',\n",
       "  'dark',\n",
       "  'intellectual',\n",
       "  'hard',\n",
       "  'grave',\n",
       "  'static',\n",
       "  'gloomy',\n",
       "  'manly',\n",
       "  'melancholy'],\n",
       " [],\n",
       " ['natural',\n",
       "  'plain',\n",
       "  'strong',\n",
       "  'favorite',\n",
       "  'beautiful',\n",
       "  'vivid',\n",
       "  'clear',\n",
       "  'simple',\n",
       "  'graceful',\n",
       "  'new'],\n",
       " ['artificial',\n",
       "  'insistent',\n",
       "  'feeble',\n",
       "  'disliked',\n",
       "  'ugly',\n",
       "  'vague',\n",
       "  'muddy',\n",
       "  'complicated',\n",
       "  'vulgar',\n",
       "  'old'],\n",
       " ['showy',\n",
       "  'warm',\n",
       "  'bright',\n",
       "  'emotional',\n",
       "  'soft',\n",
       "  'light',\n",
       "  'dynamic',\n",
       "  'cheerful',\n",
       "  'womanly',\n",
       "  'excited']]"
      ]
     },
     "execution_count": 20,
     "metadata": {},
     "output_type": "execute_result"
    }
   ],
   "source": [
    "[[impression_word[i] for i in kcluster[k]] for k in range(len(kcluster))]"
   ]
  },
  {
   "cell_type": "code",
   "execution_count": null,
   "metadata": {
    "collapsed": true
   },
   "outputs": [],
   "source": []
  },
  {
   "cell_type": "code",
   "execution_count": null,
   "metadata": {
    "collapsed": true
   },
   "outputs": [],
   "source": []
  },
  {
   "cell_type": "code",
   "execution_count": null,
   "metadata": {
    "collapsed": true
   },
   "outputs": [],
   "source": []
  },
  {
   "cell_type": "code",
   "execution_count": null,
   "metadata": {
    "collapsed": true
   },
   "outputs": [],
   "source": []
  },
  {
   "cell_type": "code",
   "execution_count": null,
   "metadata": {
    "collapsed": true
   },
   "outputs": [],
   "source": []
  },
  {
   "cell_type": "code",
   "execution_count": null,
   "metadata": {
    "collapsed": true
   },
   "outputs": [],
   "source": []
  },
  {
   "cell_type": "code",
   "execution_count": null,
   "metadata": {
    "collapsed": true
   },
   "outputs": [],
   "source": []
  },
  {
   "cell_type": "code",
   "execution_count": null,
   "metadata": {
    "collapsed": true
   },
   "outputs": [],
   "source": []
  }
 ],
 "metadata": {
  "kernelspec": {
   "display_name": "Python 2",
   "language": "python",
   "name": "python2"
  },
  "language_info": {
   "codemirror_mode": {
    "name": "ipython",
    "version": 2
   },
   "file_extension": ".py",
   "mimetype": "text/x-python",
   "name": "python",
   "nbconvert_exporter": "python",
   "pygments_lexer": "ipython2",
   "version": "2.7.13"
  },
  "toc": {
   "base_numbering": 1,
   "nav_menu": {},
   "number_sections": true,
   "sideBar": true,
   "skip_h1_title": false,
   "title_cell": "Table of Contents",
   "title_sidebar": "Contents",
   "toc_cell": false,
   "toc_position": {},
   "toc_section_display": true,
   "toc_window_display": false
  }
 },
 "nbformat": 4,
 "nbformat_minor": 2
}
